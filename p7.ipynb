{
 "cells": [
  {
   "cell_type": "code",
   "execution_count": 1,
   "id": "d9884168-5ee8-426d-8ee1-9f1735f7ea42",
   "metadata": {
    "tags": []
   },
   "outputs": [],
   "source": [
    "from google.cloud import bigquery\n",
    "bq = bigquery.Client(project=\"operating-pod-302903\")"
   ]
  },
  {
   "cell_type": "code",
   "execution_count": 2,
   "id": "0dfaa7ae-542d-4f78-88ce-b7b3ac0693e9",
   "metadata": {
    "tags": []
   },
   "outputs": [
    {
     "data": {
      "text/plain": [
       "<google.cloud.bigquery.client.Client at 0x7f10fa7334f0>"
      ]
     },
     "execution_count": 2,
     "metadata": {},
     "output_type": "execute_result"
    }
   ],
   "source": [
    "bq"
   ]
  },
  {
   "cell_type": "code",
   "execution_count": 3,
   "id": "a501d4f9-c038-4c0b-aa0f-56918155f0fb",
   "metadata": {
    "tags": []
   },
   "outputs": [
    {
     "data": {
      "text/plain": [
       "'operating-pod-302903'"
      ]
     },
     "execution_count": 3,
     "metadata": {},
     "output_type": "execute_result"
    }
   ],
   "source": [
    "bq.project"
   ]
  },
  {
   "cell_type": "code",
   "execution_count": 4,
   "id": "9b8d3d88-c46d-448e-89bc-4ef5f794d233",
   "metadata": {
    "tags": []
   },
   "outputs": [],
   "source": [
    "no_cache = bigquery.QueryJobConfig(use_query_cache=False)"
   ]
  },
  {
   "cell_type": "code",
   "execution_count": 5,
   "id": "276890b0-5fe1-4582-afaa-eec2da932876",
   "metadata": {
    "tags": []
   },
   "outputs": [
    {
     "data": {
      "text/html": [
       "<div>\n",
       "<style scoped>\n",
       "    .dataframe tbody tr th:only-of-type {\n",
       "        vertical-align: middle;\n",
       "    }\n",
       "\n",
       "    .dataframe tbody tr th {\n",
       "        vertical-align: top;\n",
       "    }\n",
       "\n",
       "    .dataframe thead th {\n",
       "        text-align: right;\n",
       "    }\n",
       "</style>\n",
       "<table border=\"1\" class=\"dataframe\">\n",
       "  <thead>\n",
       "    <tr style=\"text-align: right;\">\n",
       "      <th></th>\n",
       "      <th>geo_id</th>\n",
       "      <th>county_name</th>\n",
       "    </tr>\n",
       "  </thead>\n",
       "  <tbody>\n",
       "    <tr>\n",
       "      <th>0</th>\n",
       "      <td>55025</td>\n",
       "      <td>Dane</td>\n",
       "    </tr>\n",
       "  </tbody>\n",
       "</table>\n",
       "</div>"
      ],
      "text/plain": [
       "  geo_id county_name\n",
       "0  55025        Dane"
      ]
     },
     "execution_count": 5,
     "metadata": {},
     "output_type": "execute_result"
    }
   ],
   "source": [
    "q = bq.query(\"\"\"\n",
    "SELECT geo_id, county_name\n",
    "FROM bigquery-public-data.geo_us_boundaries.counties\n",
    "WHERE county_name = 'Dane'\n",
    "\"\"\", job_config=no_cache)\n",
    "q.to_dataframe()"
   ]
  },
  {
   "cell_type": "code",
   "execution_count": 6,
   "id": "f50f9536-d5b8-4c5a-9d86-de299a58ccde",
   "metadata": {
    "tags": []
   },
   "outputs": [
    {
     "data": {
      "text/plain": [
       "'55025'"
      ]
     },
     "execution_count": 6,
     "metadata": {},
     "output_type": "execute_result"
    }
   ],
   "source": [
    "#q1\n",
    "q.to_dataframe().loc[0, 'geo_id']"
   ]
  },
  {
   "cell_type": "code",
   "execution_count": 7,
   "id": "02f20437-a29e-4221-8f00-812d350b4d86",
   "metadata": {
    "tags": []
   },
   "outputs": [
    {
     "data": {
      "text/html": [
       "<div>\n",
       "<style scoped>\n",
       "    .dataframe tbody tr th:only-of-type {\n",
       "        vertical-align: middle;\n",
       "    }\n",
       "\n",
       "    .dataframe tbody tr th {\n",
       "        vertical-align: top;\n",
       "    }\n",
       "\n",
       "    .dataframe thead th {\n",
       "        text-align: right;\n",
       "    }\n",
       "</style>\n",
       "<table border=\"1\" class=\"dataframe\">\n",
       "  <thead>\n",
       "    <tr style=\"text-align: right;\">\n",
       "      <th></th>\n",
       "      <th>state_fips_code</th>\n",
       "      <th>num_counties</th>\n",
       "    </tr>\n",
       "  </thead>\n",
       "  <tbody>\n",
       "    <tr>\n",
       "      <th>0</th>\n",
       "      <td>01</td>\n",
       "      <td>67</td>\n",
       "    </tr>\n",
       "    <tr>\n",
       "      <th>1</th>\n",
       "      <td>02</td>\n",
       "      <td>29</td>\n",
       "    </tr>\n",
       "    <tr>\n",
       "      <th>2</th>\n",
       "      <td>04</td>\n",
       "      <td>15</td>\n",
       "    </tr>\n",
       "    <tr>\n",
       "      <th>3</th>\n",
       "      <td>05</td>\n",
       "      <td>75</td>\n",
       "    </tr>\n",
       "    <tr>\n",
       "      <th>4</th>\n",
       "      <td>06</td>\n",
       "      <td>58</td>\n",
       "    </tr>\n",
       "    <tr>\n",
       "      <th>5</th>\n",
       "      <td>08</td>\n",
       "      <td>64</td>\n",
       "    </tr>\n",
       "    <tr>\n",
       "      <th>6</th>\n",
       "      <td>09</td>\n",
       "      <td>8</td>\n",
       "    </tr>\n",
       "    <tr>\n",
       "      <th>7</th>\n",
       "      <td>10</td>\n",
       "      <td>3</td>\n",
       "    </tr>\n",
       "    <tr>\n",
       "      <th>8</th>\n",
       "      <td>11</td>\n",
       "      <td>1</td>\n",
       "    </tr>\n",
       "    <tr>\n",
       "      <th>9</th>\n",
       "      <td>12</td>\n",
       "      <td>67</td>\n",
       "    </tr>\n",
       "    <tr>\n",
       "      <th>10</th>\n",
       "      <td>13</td>\n",
       "      <td>159</td>\n",
       "    </tr>\n",
       "    <tr>\n",
       "      <th>11</th>\n",
       "      <td>15</td>\n",
       "      <td>5</td>\n",
       "    </tr>\n",
       "    <tr>\n",
       "      <th>12</th>\n",
       "      <td>16</td>\n",
       "      <td>44</td>\n",
       "    </tr>\n",
       "    <tr>\n",
       "      <th>13</th>\n",
       "      <td>17</td>\n",
       "      <td>102</td>\n",
       "    </tr>\n",
       "    <tr>\n",
       "      <th>14</th>\n",
       "      <td>18</td>\n",
       "      <td>92</td>\n",
       "    </tr>\n",
       "    <tr>\n",
       "      <th>15</th>\n",
       "      <td>19</td>\n",
       "      <td>99</td>\n",
       "    </tr>\n",
       "    <tr>\n",
       "      <th>16</th>\n",
       "      <td>20</td>\n",
       "      <td>105</td>\n",
       "    </tr>\n",
       "    <tr>\n",
       "      <th>17</th>\n",
       "      <td>21</td>\n",
       "      <td>120</td>\n",
       "    </tr>\n",
       "    <tr>\n",
       "      <th>18</th>\n",
       "      <td>22</td>\n",
       "      <td>64</td>\n",
       "    </tr>\n",
       "    <tr>\n",
       "      <th>19</th>\n",
       "      <td>23</td>\n",
       "      <td>16</td>\n",
       "    </tr>\n",
       "    <tr>\n",
       "      <th>20</th>\n",
       "      <td>24</td>\n",
       "      <td>24</td>\n",
       "    </tr>\n",
       "    <tr>\n",
       "      <th>21</th>\n",
       "      <td>25</td>\n",
       "      <td>14</td>\n",
       "    </tr>\n",
       "    <tr>\n",
       "      <th>22</th>\n",
       "      <td>26</td>\n",
       "      <td>83</td>\n",
       "    </tr>\n",
       "    <tr>\n",
       "      <th>23</th>\n",
       "      <td>27</td>\n",
       "      <td>87</td>\n",
       "    </tr>\n",
       "    <tr>\n",
       "      <th>24</th>\n",
       "      <td>28</td>\n",
       "      <td>82</td>\n",
       "    </tr>\n",
       "    <tr>\n",
       "      <th>25</th>\n",
       "      <td>29</td>\n",
       "      <td>115</td>\n",
       "    </tr>\n",
       "    <tr>\n",
       "      <th>26</th>\n",
       "      <td>30</td>\n",
       "      <td>56</td>\n",
       "    </tr>\n",
       "    <tr>\n",
       "      <th>27</th>\n",
       "      <td>31</td>\n",
       "      <td>93</td>\n",
       "    </tr>\n",
       "    <tr>\n",
       "      <th>28</th>\n",
       "      <td>32</td>\n",
       "      <td>17</td>\n",
       "    </tr>\n",
       "    <tr>\n",
       "      <th>29</th>\n",
       "      <td>33</td>\n",
       "      <td>10</td>\n",
       "    </tr>\n",
       "    <tr>\n",
       "      <th>30</th>\n",
       "      <td>34</td>\n",
       "      <td>21</td>\n",
       "    </tr>\n",
       "    <tr>\n",
       "      <th>31</th>\n",
       "      <td>35</td>\n",
       "      <td>33</td>\n",
       "    </tr>\n",
       "    <tr>\n",
       "      <th>32</th>\n",
       "      <td>36</td>\n",
       "      <td>62</td>\n",
       "    </tr>\n",
       "    <tr>\n",
       "      <th>33</th>\n",
       "      <td>37</td>\n",
       "      <td>100</td>\n",
       "    </tr>\n",
       "    <tr>\n",
       "      <th>34</th>\n",
       "      <td>38</td>\n",
       "      <td>53</td>\n",
       "    </tr>\n",
       "    <tr>\n",
       "      <th>35</th>\n",
       "      <td>39</td>\n",
       "      <td>88</td>\n",
       "    </tr>\n",
       "    <tr>\n",
       "      <th>36</th>\n",
       "      <td>40</td>\n",
       "      <td>77</td>\n",
       "    </tr>\n",
       "    <tr>\n",
       "      <th>37</th>\n",
       "      <td>41</td>\n",
       "      <td>36</td>\n",
       "    </tr>\n",
       "    <tr>\n",
       "      <th>38</th>\n",
       "      <td>42</td>\n",
       "      <td>67</td>\n",
       "    </tr>\n",
       "    <tr>\n",
       "      <th>39</th>\n",
       "      <td>44</td>\n",
       "      <td>5</td>\n",
       "    </tr>\n",
       "    <tr>\n",
       "      <th>40</th>\n",
       "      <td>45</td>\n",
       "      <td>46</td>\n",
       "    </tr>\n",
       "    <tr>\n",
       "      <th>41</th>\n",
       "      <td>46</td>\n",
       "      <td>66</td>\n",
       "    </tr>\n",
       "    <tr>\n",
       "      <th>42</th>\n",
       "      <td>47</td>\n",
       "      <td>95</td>\n",
       "    </tr>\n",
       "    <tr>\n",
       "      <th>43</th>\n",
       "      <td>48</td>\n",
       "      <td>254</td>\n",
       "    </tr>\n",
       "    <tr>\n",
       "      <th>44</th>\n",
       "      <td>49</td>\n",
       "      <td>29</td>\n",
       "    </tr>\n",
       "    <tr>\n",
       "      <th>45</th>\n",
       "      <td>50</td>\n",
       "      <td>14</td>\n",
       "    </tr>\n",
       "    <tr>\n",
       "      <th>46</th>\n",
       "      <td>51</td>\n",
       "      <td>133</td>\n",
       "    </tr>\n",
       "    <tr>\n",
       "      <th>47</th>\n",
       "      <td>53</td>\n",
       "      <td>39</td>\n",
       "    </tr>\n",
       "    <tr>\n",
       "      <th>48</th>\n",
       "      <td>54</td>\n",
       "      <td>55</td>\n",
       "    </tr>\n",
       "    <tr>\n",
       "      <th>49</th>\n",
       "      <td>55</td>\n",
       "      <td>72</td>\n",
       "    </tr>\n",
       "    <tr>\n",
       "      <th>50</th>\n",
       "      <td>56</td>\n",
       "      <td>23</td>\n",
       "    </tr>\n",
       "    <tr>\n",
       "      <th>51</th>\n",
       "      <td>60</td>\n",
       "      <td>5</td>\n",
       "    </tr>\n",
       "    <tr>\n",
       "      <th>52</th>\n",
       "      <td>66</td>\n",
       "      <td>1</td>\n",
       "    </tr>\n",
       "    <tr>\n",
       "      <th>53</th>\n",
       "      <td>69</td>\n",
       "      <td>4</td>\n",
       "    </tr>\n",
       "    <tr>\n",
       "      <th>54</th>\n",
       "      <td>72</td>\n",
       "      <td>78</td>\n",
       "    </tr>\n",
       "    <tr>\n",
       "      <th>55</th>\n",
       "      <td>78</td>\n",
       "      <td>3</td>\n",
       "    </tr>\n",
       "  </tbody>\n",
       "</table>\n",
       "</div>"
      ],
      "text/plain": [
       "   state_fips_code  num_counties\n",
       "0               01            67\n",
       "1               02            29\n",
       "2               04            15\n",
       "3               05            75\n",
       "4               06            58\n",
       "5               08            64\n",
       "6               09             8\n",
       "7               10             3\n",
       "8               11             1\n",
       "9               12            67\n",
       "10              13           159\n",
       "11              15             5\n",
       "12              16            44\n",
       "13              17           102\n",
       "14              18            92\n",
       "15              19            99\n",
       "16              20           105\n",
       "17              21           120\n",
       "18              22            64\n",
       "19              23            16\n",
       "20              24            24\n",
       "21              25            14\n",
       "22              26            83\n",
       "23              27            87\n",
       "24              28            82\n",
       "25              29           115\n",
       "26              30            56\n",
       "27              31            93\n",
       "28              32            17\n",
       "29              33            10\n",
       "30              34            21\n",
       "31              35            33\n",
       "32              36            62\n",
       "33              37           100\n",
       "34              38            53\n",
       "35              39            88\n",
       "36              40            77\n",
       "37              41            36\n",
       "38              42            67\n",
       "39              44             5\n",
       "40              45            46\n",
       "41              46            66\n",
       "42              47            95\n",
       "43              48           254\n",
       "44              49            29\n",
       "45              50            14\n",
       "46              51           133\n",
       "47              53            39\n",
       "48              54            55\n",
       "49              55            72\n",
       "50              56            23\n",
       "51              60             5\n",
       "52              66             1\n",
       "53              69             4\n",
       "54              72            78\n",
       "55              78             3"
      ]
     },
     "execution_count": 7,
     "metadata": {},
     "output_type": "execute_result"
    }
   ],
   "source": [
    "q2 = bq.query(\"\"\"\n",
    "SELECT state_fips_code, COUNT(*) as num_counties\n",
    "FROM bigquery-public-data.geo_us_boundaries.counties\n",
    "GROUP BY state_fips_code\n",
    "\"\"\", job_config=no_cache)\n",
    "q2.to_dataframe()"
   ]
  },
  {
   "cell_type": "code",
   "execution_count": 8,
   "id": "faf0c75a-4527-46b1-a960-575f3c5908cf",
   "metadata": {},
   "outputs": [],
   "source": [
    "ncdf = q2.to_dataframe()\n",
    "ncdf = ncdf.sort_values(by = ['num_counties'], ascending=False).head(5)"
   ]
  },
  {
   "cell_type": "code",
   "execution_count": 9,
   "id": "3fc05fe5-7951-461b-873c-7b7a03af9ccc",
   "metadata": {
    "tags": []
   },
   "outputs": [
    {
     "data": {
      "text/plain": [
       "{'48': 254, '13': 159, '51': 133, '21': 120, '29': 115}"
      ]
     },
     "execution_count": 9,
     "metadata": {},
     "output_type": "execute_result"
    }
   ],
   "source": [
    "#q2\n",
    "d = {}\n",
    "for i in ncdf.index:\n",
    "    d[ncdf.loc[i, 'state_fips_code']] = ncdf.loc[i, 'num_counties']\n",
    "    \n",
    "d"
   ]
  },
  {
   "cell_type": "code",
   "execution_count": 10,
   "id": "cf27ddd6-db4e-4fcd-bc02-9b7e3ddec43f",
   "metadata": {
    "tags": []
   },
   "outputs": [
    {
     "data": {
      "text/plain": [
       "False"
      ]
     },
     "execution_count": 10,
     "metadata": {},
     "output_type": "execute_result"
    }
   ],
   "source": [
    "q2.cache_hit"
   ]
  },
  {
   "cell_type": "code",
   "execution_count": 11,
   "id": "6ecc0217-f0fa-4f8c-9c84-a05e1f765234",
   "metadata": {
    "tags": []
   },
   "outputs": [],
   "source": [
    "def charge(query):\n",
    "    price = 5\n",
    "    b = query.total_bytes_billed / 1024**4\n",
    "    return b * price"
   ]
  },
  {
   "cell_type": "code",
   "execution_count": 12,
   "id": "94fe3c2b-8e09-492c-bfbe-6ccf1ab7e9ed",
   "metadata": {
    "tags": []
   },
   "outputs": [
    {
     "data": {
      "text/plain": [
       "{'q1': 4.76837158203125e-05, 'q2': 4.76837158203125e-05}"
      ]
     },
     "execution_count": 12,
     "metadata": {},
     "output_type": "execute_result"
    }
   ],
   "source": [
    "#q3\n",
    "prices = {'q1' : charge(q), 'q2': charge(q2)}\n",
    "prices"
   ]
  },
  {
   "cell_type": "markdown",
   "id": "1bb9ec85-7998-4640-966b-95186774740c",
   "metadata": {},
   "source": [
    "## Creating Dataset and loading hdma data"
   ]
  },
  {
   "cell_type": "code",
   "execution_count": 13,
   "id": "51c54ea8-bb97-441b-9b80-ef009f361957",
   "metadata": {
    "tags": []
   },
   "outputs": [
    {
     "data": {
      "text/plain": [
       "Dataset(DatasetReference('operating-pod-302903', 'p7'))"
      ]
     },
     "execution_count": 13,
     "metadata": {},
     "output_type": "execute_result"
    }
   ],
   "source": [
    "dataset = bigquery.Dataset(\"operating-pod-302903.p7\")\n",
    "bq.create_dataset(dataset, exists_ok=True)"
   ]
  },
  {
   "cell_type": "code",
   "execution_count": 14,
   "id": "8da4db0a-da4a-4eb9-a1b4-313db732abbf",
   "metadata": {
    "tags": []
   },
   "outputs": [
    {
     "data": {
      "text/plain": [
       "Table(TableReference(DatasetReference('operating-pod-302903', 'p7'), 'hdma'))"
      ]
     },
     "execution_count": 14,
     "metadata": {},
     "output_type": "execute_result"
    }
   ],
   "source": [
    "config = bigquery.ExternalConfig(\"PARQUET\")\n",
    "config.source_uris = [\"gs://project7_abhishek/hdma-wi-2021.parquet\"]\n",
    "# config.autodetect = True\n",
    "table = bigquery.Table(\"operating-pod-302903.p7.hdma\")\n",
    "table.external_data_configuration = config\n",
    "bq.create_table(table, exists_ok=True)"
   ]
  },
  {
   "cell_type": "code",
   "execution_count": 15,
   "id": "8e1fffcf-be89-4454-8147-a294bdca6a1e",
   "metadata": {
    "tags": []
   },
   "outputs": [
    {
     "data": {
      "text/plain": [
       "['p7']"
      ]
     },
     "execution_count": 15,
     "metadata": {},
     "output_type": "execute_result"
    }
   ],
   "source": [
    "#q4\n",
    "[ds.dataset_id for ds in bq.list_datasets(\"operating-pod-302903\")]"
   ]
  },
  {
   "cell_type": "code",
   "execution_count": 16,
   "id": "9d74e349-f76a-4266-8fa3-442bd659b8de",
   "metadata": {
    "tags": []
   },
   "outputs": [
    {
     "data": {
      "text/plain": [
       "QueryJob<project=operating-pod-302903, location=US, id=c3abc1d0-27a0-4828-be44-a3b7e7d603ed>"
      ]
     },
     "execution_count": 16,
     "metadata": {},
     "output_type": "execute_result"
    }
   ],
   "source": [
    "q5 = bq.query(\"\"\"\n",
    "SELECT pub.county_name, COUNT(*) AS num_loans\n",
    "FROM operating-pod-302903.p7.hdma AS priv\n",
    "INNER JOIN bigquery-public-data.geo_us_boundaries.counties AS pub\n",
    "ON priv.county_code = pub.county_fips_code\n",
    "GROUP BY pub.county_name\n",
    "\"\"\", job_config=no_cache)\n",
    "q5"
   ]
  },
  {
   "cell_type": "code",
   "execution_count": 17,
   "id": "91d99590-2beb-4c0c-8dba-87b47dcbf91e",
   "metadata": {
    "tags": []
   },
   "outputs": [
    {
     "data": {
      "text/html": [
       "<div>\n",
       "<style scoped>\n",
       "    .dataframe tbody tr th:only-of-type {\n",
       "        vertical-align: middle;\n",
       "    }\n",
       "\n",
       "    .dataframe tbody tr th {\n",
       "        vertical-align: top;\n",
       "    }\n",
       "\n",
       "    .dataframe thead th {\n",
       "        text-align: right;\n",
       "    }\n",
       "</style>\n",
       "<table border=\"1\" class=\"dataframe\">\n",
       "  <thead>\n",
       "    <tr style=\"text-align: right;\">\n",
       "      <th></th>\n",
       "      <th>county_name</th>\n",
       "      <th>num_loans</th>\n",
       "    </tr>\n",
       "  </thead>\n",
       "  <tbody>\n",
       "    <tr>\n",
       "      <th>0</th>\n",
       "      <td>Dodge</td>\n",
       "      <td>5054</td>\n",
       "    </tr>\n",
       "    <tr>\n",
       "      <th>1</th>\n",
       "      <td>Adams</td>\n",
       "      <td>1491</td>\n",
       "    </tr>\n",
       "    <tr>\n",
       "      <th>2</th>\n",
       "      <td>Burnett</td>\n",
       "      <td>1386</td>\n",
       "    </tr>\n",
       "    <tr>\n",
       "      <th>3</th>\n",
       "      <td>Kenosha</td>\n",
       "      <td>10744</td>\n",
       "    </tr>\n",
       "    <tr>\n",
       "      <th>4</th>\n",
       "      <td>Outagamie</td>\n",
       "      <td>11523</td>\n",
       "    </tr>\n",
       "    <tr>\n",
       "      <th>...</th>\n",
       "      <td>...</td>\n",
       "      <td>...</td>\n",
       "    </tr>\n",
       "    <tr>\n",
       "      <th>67</th>\n",
       "      <td>Rusk</td>\n",
       "      <td>605</td>\n",
       "    </tr>\n",
       "    <tr>\n",
       "      <th>68</th>\n",
       "      <td>Menominee</td>\n",
       "      <td>144</td>\n",
       "    </tr>\n",
       "    <tr>\n",
       "      <th>69</th>\n",
       "      <td>Forest</td>\n",
       "      <td>517</td>\n",
       "    </tr>\n",
       "    <tr>\n",
       "      <th>70</th>\n",
       "      <td>Buffalo</td>\n",
       "      <td>532</td>\n",
       "    </tr>\n",
       "    <tr>\n",
       "      <th>71</th>\n",
       "      <td>Florence</td>\n",
       "      <td>206</td>\n",
       "    </tr>\n",
       "  </tbody>\n",
       "</table>\n",
       "<p>72 rows × 2 columns</p>\n",
       "</div>"
      ],
      "text/plain": [
       "   county_name  num_loans\n",
       "0        Dodge       5054\n",
       "1        Adams       1491\n",
       "2      Burnett       1386\n",
       "3      Kenosha      10744\n",
       "4    Outagamie      11523\n",
       "..         ...        ...\n",
       "67        Rusk        605\n",
       "68   Menominee        144\n",
       "69      Forest        517\n",
       "70     Buffalo        532\n",
       "71    Florence        206\n",
       "\n",
       "[72 rows x 2 columns]"
      ]
     },
     "execution_count": 17,
     "metadata": {},
     "output_type": "execute_result"
    }
   ],
   "source": [
    "df5 = q5.to_dataframe()\n",
    "df5"
   ]
  },
  {
   "cell_type": "code",
   "execution_count": 18,
   "id": "768dce34-99c4-48e2-bbf9-74c564273a68",
   "metadata": {
    "tags": []
   },
   "outputs": [
    {
     "data": {
      "text/html": [
       "<div>\n",
       "<style scoped>\n",
       "    .dataframe tbody tr th:only-of-type {\n",
       "        vertical-align: middle;\n",
       "    }\n",
       "\n",
       "    .dataframe tbody tr th {\n",
       "        vertical-align: top;\n",
       "    }\n",
       "\n",
       "    .dataframe thead th {\n",
       "        text-align: right;\n",
       "    }\n",
       "</style>\n",
       "<table border=\"1\" class=\"dataframe\">\n",
       "  <thead>\n",
       "    <tr style=\"text-align: right;\">\n",
       "      <th></th>\n",
       "      <th>county_name</th>\n",
       "      <th>num_loans</th>\n",
       "    </tr>\n",
       "  </thead>\n",
       "  <tbody>\n",
       "    <tr>\n",
       "      <th>12</th>\n",
       "      <td>Milwaukee</td>\n",
       "      <td>46570</td>\n",
       "    </tr>\n",
       "    <tr>\n",
       "      <th>14</th>\n",
       "      <td>Dane</td>\n",
       "      <td>38557</td>\n",
       "    </tr>\n",
       "    <tr>\n",
       "      <th>15</th>\n",
       "      <td>Waukesha</td>\n",
       "      <td>34159</td>\n",
       "    </tr>\n",
       "    <tr>\n",
       "      <th>13</th>\n",
       "      <td>Brown</td>\n",
       "      <td>15615</td>\n",
       "    </tr>\n",
       "    <tr>\n",
       "      <th>8</th>\n",
       "      <td>Racine</td>\n",
       "      <td>13007</td>\n",
       "    </tr>\n",
       "    <tr>\n",
       "      <th>4</th>\n",
       "      <td>Outagamie</td>\n",
       "      <td>11523</td>\n",
       "    </tr>\n",
       "    <tr>\n",
       "      <th>3</th>\n",
       "      <td>Kenosha</td>\n",
       "      <td>10744</td>\n",
       "    </tr>\n",
       "    <tr>\n",
       "      <th>20</th>\n",
       "      <td>Washington</td>\n",
       "      <td>10726</td>\n",
       "    </tr>\n",
       "    <tr>\n",
       "      <th>40</th>\n",
       "      <td>Rock</td>\n",
       "      <td>9834</td>\n",
       "    </tr>\n",
       "    <tr>\n",
       "      <th>23</th>\n",
       "      <td>Winnebago</td>\n",
       "      <td>9310</td>\n",
       "    </tr>\n",
       "  </tbody>\n",
       "</table>\n",
       "</div>"
      ],
      "text/plain": [
       "   county_name  num_loans\n",
       "12   Milwaukee      46570\n",
       "14        Dane      38557\n",
       "15    Waukesha      34159\n",
       "13       Brown      15615\n",
       "8       Racine      13007\n",
       "4    Outagamie      11523\n",
       "3      Kenosha      10744\n",
       "20  Washington      10726\n",
       "40        Rock       9834\n",
       "23   Winnebago       9310"
      ]
     },
     "execution_count": 18,
     "metadata": {},
     "output_type": "execute_result"
    }
   ],
   "source": [
    "topCounties = df5.sort_values(by = ['num_loans'], ascending=False).head(10)\n",
    "topCounties"
   ]
  },
  {
   "cell_type": "code",
   "execution_count": 19,
   "id": "48e45943-0b49-478f-aece-7fc5e6f4f383",
   "metadata": {
    "tags": []
   },
   "outputs": [
    {
     "data": {
      "text/plain": [
       "{'Milwaukee': 46570,\n",
       " 'Dane': 38557,\n",
       " 'Waukesha': 34159,\n",
       " 'Brown': 15615,\n",
       " 'Racine': 13007,\n",
       " 'Outagamie': 11523,\n",
       " 'Kenosha': 10744,\n",
       " 'Washington': 10726,\n",
       " 'Rock': 9834,\n",
       " 'Winnebago': 9310}"
      ]
     },
     "execution_count": 19,
     "metadata": {},
     "output_type": "execute_result"
    }
   ],
   "source": [
    "#q5\n",
    "d5 = {}\n",
    "for i in topCounties.index:\n",
    "    d5[topCounties.loc[i, 'county_name']] = topCounties.loc[i, 'num_loans']\n",
    "    \n",
    "d5"
   ]
  },
  {
   "cell_type": "markdown",
   "id": "17e29f0e-c0ae-4598-97d0-88ca5be5abca",
   "metadata": {
    "tags": []
   },
   "source": [
    "## Loading data from google form"
   ]
  },
  {
   "cell_type": "code",
   "execution_count": 20,
   "id": "daa38642-48ae-46f2-87e6-679b81ca8e36",
   "metadata": {
    "tags": []
   },
   "outputs": [
    {
     "data": {
      "text/plain": [
       "Table(TableReference(DatasetReference('operating-pod-302903', 'p7'), 'applications'))"
      ]
     },
     "execution_count": 20,
     "metadata": {},
     "output_type": "execute_result"
    }
   ],
   "source": [
    "url = \"https://drive.google.com/open?id=1e2qLPyxZ7s5ibMyEg7bxX2wWYAQD2ROAUcZuv8fqhnA\"\n",
    "\n",
    "config = bigquery.ExternalConfig(\"GOOGLE_SHEETS\")\n",
    "config.source_uris = [url]\n",
    "config.autodetect = True\n",
    "table = bigquery.Table(\"operating-pod-302903.p7.applications\")\n",
    "table.external_data_configuration = config\n",
    "bq.create_table(table, exists_ok=True)"
   ]
  },
  {
   "cell_type": "code",
   "execution_count": 21,
   "id": "48dd19bc-af3f-44d7-8385-2260c206d0de",
   "metadata": {
    "tags": []
   },
   "outputs": [
    {
     "data": {
      "text/html": [
       "<div>\n",
       "<style scoped>\n",
       "    .dataframe tbody tr th:only-of-type {\n",
       "        vertical-align: middle;\n",
       "    }\n",
       "\n",
       "    .dataframe tbody tr th {\n",
       "        vertical-align: top;\n",
       "    }\n",
       "\n",
       "    .dataframe thead th {\n",
       "        text-align: right;\n",
       "    }\n",
       "</style>\n",
       "<table border=\"1\" class=\"dataframe\">\n",
       "  <thead>\n",
       "    <tr style=\"text-align: right;\">\n",
       "      <th></th>\n",
       "      <th>cnt</th>\n",
       "    </tr>\n",
       "  </thead>\n",
       "  <tbody>\n",
       "    <tr>\n",
       "      <th>0</th>\n",
       "      <td>12</td>\n",
       "    </tr>\n",
       "  </tbody>\n",
       "</table>\n",
       "</div>"
      ],
      "text/plain": [
       "   cnt\n",
       "0   12"
      ]
     },
     "execution_count": 21,
     "metadata": {},
     "output_type": "execute_result"
    }
   ],
   "source": [
    "q6 = bq.query(\"\"\"\n",
    "SELECT COUNT(*) as cnt\n",
    "FROM operating-pod-302903.p7.applications\n",
    "WHERE INCOME = 100000\n",
    "\"\"\", job_config=no_cache)\n",
    "df6 = q6.to_dataframe()\n",
    "df6"
   ]
  },
  {
   "cell_type": "code",
   "execution_count": 22,
   "id": "8eb7bacf-1dba-4135-a055-a068f0a04553",
   "metadata": {},
   "outputs": [
    {
     "data": {
      "text/plain": [
       "12"
      ]
     },
     "execution_count": 22,
     "metadata": {},
     "output_type": "execute_result"
    }
   ],
   "source": [
    "#q6\n",
    "df6.loc[0, 'cnt']"
   ]
  },
  {
   "cell_type": "code",
   "execution_count": 23,
   "id": "047a1abd-7a2d-458f-909b-bdec71e78fdb",
   "metadata": {},
   "outputs": [
    {
     "data": {
      "text/html": [
       "<div>\n",
       "<style scoped>\n",
       "    .dataframe tbody tr th:only-of-type {\n",
       "        vertical-align: middle;\n",
       "    }\n",
       "\n",
       "    .dataframe tbody tr th {\n",
       "        vertical-align: top;\n",
       "    }\n",
       "\n",
       "    .dataframe thead th {\n",
       "        text-align: right;\n",
       "    }\n",
       "</style>\n",
       "<table border=\"1\" class=\"dataframe\">\n",
       "  <thead>\n",
       "    <tr style=\"text-align: right;\">\n",
       "      <th></th>\n",
       "      <th>county_name</th>\n",
       "      <th>cnt</th>\n",
       "    </tr>\n",
       "  </thead>\n",
       "  <tbody>\n",
       "    <tr>\n",
       "      <th>0</th>\n",
       "      <td>Dane</td>\n",
       "      <td>27</td>\n",
       "    </tr>\n",
       "    <tr>\n",
       "      <th>1</th>\n",
       "      <td>Oneida</td>\n",
       "      <td>1</td>\n",
       "    </tr>\n",
       "    <tr>\n",
       "      <th>2</th>\n",
       "      <td>Door</td>\n",
       "      <td>5</td>\n",
       "    </tr>\n",
       "    <tr>\n",
       "      <th>3</th>\n",
       "      <td>Iron</td>\n",
       "      <td>1</td>\n",
       "    </tr>\n",
       "    <tr>\n",
       "      <th>4</th>\n",
       "      <td>Jefferson</td>\n",
       "      <td>2</td>\n",
       "    </tr>\n",
       "    <tr>\n",
       "      <th>5</th>\n",
       "      <td>Walworth</td>\n",
       "      <td>2</td>\n",
       "    </tr>\n",
       "    <tr>\n",
       "      <th>6</th>\n",
       "      <td>Monroe</td>\n",
       "      <td>1</td>\n",
       "    </tr>\n",
       "    <tr>\n",
       "      <th>7</th>\n",
       "      <td>Barron</td>\n",
       "      <td>1</td>\n",
       "    </tr>\n",
       "    <tr>\n",
       "      <th>8</th>\n",
       "      <td>Ashland</td>\n",
       "      <td>1</td>\n",
       "    </tr>\n",
       "    <tr>\n",
       "      <th>9</th>\n",
       "      <td>Waukesha</td>\n",
       "      <td>1</td>\n",
       "    </tr>\n",
       "    <tr>\n",
       "      <th>10</th>\n",
       "      <td>Brown</td>\n",
       "      <td>3</td>\n",
       "    </tr>\n",
       "    <tr>\n",
       "      <th>11</th>\n",
       "      <td>Green Lake</td>\n",
       "      <td>1</td>\n",
       "    </tr>\n",
       "    <tr>\n",
       "      <th>12</th>\n",
       "      <td>Adams</td>\n",
       "      <td>1</td>\n",
       "    </tr>\n",
       "    <tr>\n",
       "      <th>13</th>\n",
       "      <td>Bayfield</td>\n",
       "      <td>2</td>\n",
       "    </tr>\n",
       "    <tr>\n",
       "      <th>14</th>\n",
       "      <td>Sauk</td>\n",
       "      <td>1</td>\n",
       "    </tr>\n",
       "    <tr>\n",
       "      <th>15</th>\n",
       "      <td>Columbia</td>\n",
       "      <td>2</td>\n",
       "    </tr>\n",
       "    <tr>\n",
       "      <th>16</th>\n",
       "      <td>La Crosse</td>\n",
       "      <td>1</td>\n",
       "    </tr>\n",
       "    <tr>\n",
       "      <th>17</th>\n",
       "      <td>Iowa</td>\n",
       "      <td>1</td>\n",
       "    </tr>\n",
       "    <tr>\n",
       "      <th>18</th>\n",
       "      <td>Sheboygan</td>\n",
       "      <td>1</td>\n",
       "    </tr>\n",
       "    <tr>\n",
       "      <th>19</th>\n",
       "      <td>Kewaunee</td>\n",
       "      <td>1</td>\n",
       "    </tr>\n",
       "    <tr>\n",
       "      <th>20</th>\n",
       "      <td>Milwaukee</td>\n",
       "      <td>1</td>\n",
       "    </tr>\n",
       "  </tbody>\n",
       "</table>\n",
       "</div>"
      ],
      "text/plain": [
       "   county_name  cnt\n",
       "0         Dane   27\n",
       "1       Oneida    1\n",
       "2         Door    5\n",
       "3         Iron    1\n",
       "4    Jefferson    2\n",
       "5     Walworth    2\n",
       "6       Monroe    1\n",
       "7       Barron    1\n",
       "8      Ashland    1\n",
       "9     Waukesha    1\n",
       "10       Brown    3\n",
       "11  Green Lake    1\n",
       "12       Adams    1\n",
       "13    Bayfield    2\n",
       "14        Sauk    1\n",
       "15    Columbia    2\n",
       "16   La Crosse    1\n",
       "17        Iowa    1\n",
       "18   Sheboygan    1\n",
       "19    Kewaunee    1\n",
       "20   Milwaukee    1"
      ]
     },
     "execution_count": 23,
     "metadata": {},
     "output_type": "execute_result"
    }
   ],
   "source": [
    "q7 = bq.query(\"\"\"\n",
    "SELECT pub.county_name, COUNT(*) as cnt\n",
    "FROM operating-pod-302903.p7.applications AS apps\n",
    "INNER JOIN bigquery-public-data.geo_us_boundaries.counties AS pub\n",
    "ON (ST_WITHIN(ST_GEOGPOINT(apps.longitude, apps.latitude), pub.county_geom))\n",
    "WHERE pub.state_fips_code = '55' and apps.latitude <= 90 and apps.latitude >= -90 and apps.longitude <= 180 and apps.longitude >= -180\n",
    "GROUP BY pub.county_name\n",
    "\"\"\", job_config=no_cache)\n",
    "df7 = q7.to_dataframe()\n",
    "df7"
   ]
  },
  {
   "cell_type": "code",
   "execution_count": 24,
   "id": "2953fdeb-f936-4b44-bf6e-05492ca4e3d5",
   "metadata": {
    "tags": []
   },
   "outputs": [
    {
     "data": {
      "text/plain": [
       "{'Dane': 27,\n",
       " 'Oneida': 1,\n",
       " 'Door': 5,\n",
       " 'Iron': 1,\n",
       " 'Jefferson': 2,\n",
       " 'Walworth': 2,\n",
       " 'Monroe': 1,\n",
       " 'Barron': 1,\n",
       " 'Ashland': 1,\n",
       " 'Waukesha': 1,\n",
       " 'Brown': 3,\n",
       " 'Green Lake': 1,\n",
       " 'Adams': 1,\n",
       " 'Bayfield': 2,\n",
       " 'Sauk': 1,\n",
       " 'Columbia': 2,\n",
       " 'La Crosse': 1,\n",
       " 'Iowa': 1,\n",
       " 'Sheboygan': 1,\n",
       " 'Kewaunee': 1,\n",
       " 'Milwaukee': 1}"
      ]
     },
     "execution_count": 24,
     "metadata": {},
     "output_type": "execute_result"
    }
   ],
   "source": [
    "#q7\n",
    "d7 = {}\n",
    "for i in range(len(df7)):\n",
    "    d7[df7.loc[i, 'county_name']] = df7.loc[i, 'cnt']\n",
    "    \n",
    "d7"
   ]
  },
  {
   "cell_type": "code",
   "execution_count": 25,
   "id": "9618c484-3302-4a84-97df-983a972680c2",
   "metadata": {
    "tags": []
   },
   "outputs": [
    {
     "data": {
      "text/html": [
       "<div>\n",
       "<style scoped>\n",
       "    .dataframe tbody tr th:only-of-type {\n",
       "        vertical-align: middle;\n",
       "    }\n",
       "\n",
       "    .dataframe tbody tr th {\n",
       "        vertical-align: top;\n",
       "    }\n",
       "\n",
       "    .dataframe thead th {\n",
       "        text-align: right;\n",
       "    }\n",
       "</style>\n",
       "<table border=\"1\" class=\"dataframe\">\n",
       "  <thead>\n",
       "    <tr style=\"text-align: right;\">\n",
       "      <th></th>\n",
       "      <th>Timestamp</th>\n",
       "      <th>loan_amount</th>\n",
       "      <th>income</th>\n",
       "      <th>latitude</th>\n",
       "      <th>longitude</th>\n",
       "    </tr>\n",
       "  </thead>\n",
       "  <tbody>\n",
       "    <tr>\n",
       "      <th>0</th>\n",
       "      <td>2023-04-18 15:47:56.141000+00:00</td>\n",
       "      <td>200000</td>\n",
       "      <td>75000</td>\n",
       "      <td>43.069610</td>\n",
       "      <td>-89.411429</td>\n",
       "    </tr>\n",
       "    <tr>\n",
       "      <th>1</th>\n",
       "      <td>2023-04-18 22:02:45.381000+00:00</td>\n",
       "      <td>500000</td>\n",
       "      <td>125000</td>\n",
       "      <td>43.044469</td>\n",
       "      <td>-89.432674</td>\n",
       "    </tr>\n",
       "    <tr>\n",
       "      <th>2</th>\n",
       "      <td>2023-04-19 14:24:42.341000+00:00</td>\n",
       "      <td>350000</td>\n",
       "      <td>80000</td>\n",
       "      <td>44.513755</td>\n",
       "      <td>-88.057333</td>\n",
       "    </tr>\n",
       "    <tr>\n",
       "      <th>3</th>\n",
       "      <td>2023-04-20 08:59:51.179000+00:00</td>\n",
       "      <td>190000</td>\n",
       "      <td>150000</td>\n",
       "      <td>43.889848</td>\n",
       "      <td>-91.197627</td>\n",
       "    </tr>\n",
       "    <tr>\n",
       "      <th>4</th>\n",
       "      <td>2023-04-25 22:12:49.061000+00:00</td>\n",
       "      <td>250000</td>\n",
       "      <td>25000</td>\n",
       "      <td>43.905450</td>\n",
       "      <td>-89.060410</td>\n",
       "    </tr>\n",
       "    <tr>\n",
       "      <th>5</th>\n",
       "      <td>2023-04-25 22:16:03.936000+00:00</td>\n",
       "      <td>1200000</td>\n",
       "      <td>75000</td>\n",
       "      <td>42.711962</td>\n",
       "      <td>-88.639941</td>\n",
       "    </tr>\n",
       "    <tr>\n",
       "      <th>6</th>\n",
       "      <td>2023-04-26 17:29:54.788000+00:00</td>\n",
       "      <td>10000000</td>\n",
       "      <td>10000000</td>\n",
       "      <td>43.072125</td>\n",
       "      <td>-89.403310</td>\n",
       "    </tr>\n",
       "    <tr>\n",
       "      <th>7</th>\n",
       "      <td>2023-04-27 19:01:46.396000+00:00</td>\n",
       "      <td>10000</td>\n",
       "      <td>1</td>\n",
       "      <td>43.072200</td>\n",
       "      <td>89.400800</td>\n",
       "    </tr>\n",
       "    <tr>\n",
       "      <th>8</th>\n",
       "      <td>2023-04-27 20:06:10.639000+00:00</td>\n",
       "      <td>250000</td>\n",
       "      <td>150000</td>\n",
       "      <td>45.111400</td>\n",
       "      <td>87.047100</td>\n",
       "    </tr>\n",
       "    <tr>\n",
       "      <th>9</th>\n",
       "      <td>2023-04-27 20:40:45.871000+00:00</td>\n",
       "      <td>200000</td>\n",
       "      <td>150000</td>\n",
       "      <td>45.031929</td>\n",
       "      <td>-87.222494</td>\n",
       "    </tr>\n",
       "  </tbody>\n",
       "</table>\n",
       "</div>"
      ],
      "text/plain": [
       "                         Timestamp  loan_amount    income   latitude  \\\n",
       "0 2023-04-18 15:47:56.141000+00:00       200000     75000  43.069610   \n",
       "1 2023-04-18 22:02:45.381000+00:00       500000    125000  43.044469   \n",
       "2 2023-04-19 14:24:42.341000+00:00       350000     80000  44.513755   \n",
       "3 2023-04-20 08:59:51.179000+00:00       190000    150000  43.889848   \n",
       "4 2023-04-25 22:12:49.061000+00:00       250000     25000  43.905450   \n",
       "5 2023-04-25 22:16:03.936000+00:00      1200000     75000  42.711962   \n",
       "6 2023-04-26 17:29:54.788000+00:00     10000000  10000000  43.072125   \n",
       "7 2023-04-27 19:01:46.396000+00:00        10000         1  43.072200   \n",
       "8 2023-04-27 20:06:10.639000+00:00       250000    150000  45.111400   \n",
       "9 2023-04-27 20:40:45.871000+00:00       200000    150000  45.031929   \n",
       "\n",
       "   longitude  \n",
       "0 -89.411429  \n",
       "1 -89.432674  \n",
       "2 -88.057333  \n",
       "3 -91.197627  \n",
       "4 -89.060410  \n",
       "5 -88.639941  \n",
       "6 -89.403310  \n",
       "7  89.400800  \n",
       "8  87.047100  \n",
       "9 -87.222494  "
      ]
     },
     "execution_count": 25,
     "metadata": {},
     "output_type": "execute_result"
    }
   ],
   "source": [
    "x = bq.query(\"\"\"\n",
    "SELECT *\n",
    "FROM operating-pod-302903.p7.applications\n",
    "limit 10\n",
    "\"\"\", job_config=no_cache)\n",
    "x = x.to_dataframe()\n",
    "x"
   ]
  },
  {
   "cell_type": "markdown",
   "id": "c6d9c20a-d029-4c0a-8a13-6560d7f86d4e",
   "metadata": {
    "tags": []
   },
   "source": [
    "## Machine Learning"
   ]
  },
  {
   "cell_type": "code",
   "execution_count": 26,
   "id": "cade757d-8aa5-4e60-90e0-c1d21838b007",
   "metadata": {},
   "outputs": [],
   "source": [
    "%load_ext google.cloud.bigquery"
   ]
  },
  {
   "cell_type": "code",
   "execution_count": 27,
   "id": "929450e1-ee61-4577-bb2e-7c7d408e3707",
   "metadata": {
    "tags": []
   },
   "outputs": [
    {
     "data": {
      "application/vnd.jupyter.widget-view+json": {
       "model_id": "4d4a0bdeb54e45a194b6a5ee6fc0e80c",
       "version_major": 2,
       "version_minor": 0
      },
      "text/plain": [
       "Query is running:   0%|          |"
      ]
     },
     "metadata": {},
     "output_type": "display_data"
    },
    {
     "data": {
      "text/html": [
       "<div>\n",
       "<style scoped>\n",
       "    .dataframe tbody tr th:only-of-type {\n",
       "        vertical-align: middle;\n",
       "    }\n",
       "\n",
       "    .dataframe tbody tr th {\n",
       "        vertical-align: top;\n",
       "    }\n",
       "\n",
       "    .dataframe thead th {\n",
       "        text-align: right;\n",
       "    }\n",
       "</style>\n",
       "<table border=\"1\" class=\"dataframe\">\n",
       "  <thead>\n",
       "    <tr style=\"text-align: right;\">\n",
       "      <th></th>\n",
       "    </tr>\n",
       "  </thead>\n",
       "  <tbody>\n",
       "  </tbody>\n",
       "</table>\n",
       "</div>"
      ],
      "text/plain": [
       "Empty DataFrame\n",
       "Columns: []\n",
       "Index: []"
      ]
     },
     "execution_count": 27,
     "metadata": {},
     "output_type": "execute_result"
    }
   ],
   "source": [
    "%%bigquery\n",
    "CREATE OR REPLACE TABLE operating-pod-302903.p7.traintest\n",
    "\n",
    "AS \n",
    "\n",
    "SELECT income, loan_term, loan_amount, rand() < 0.25 AS test\n",
    "FROM operating-pod-302903.p7.hdma"
   ]
  },
  {
   "cell_type": "code",
   "execution_count": 28,
   "id": "48ce87d0-d6f5-48e3-a677-054b584fe5f6",
   "metadata": {
    "tags": []
   },
   "outputs": [
    {
     "data": {
      "application/vnd.jupyter.widget-view+json": {
       "model_id": "8cb7df1598864d499c6e3b9c3ef6c5d3",
       "version_major": 2,
       "version_minor": 0
      },
      "text/plain": [
       "Query is running:   0%|          |"
      ]
     },
     "metadata": {},
     "output_type": "display_data"
    },
    {
     "data": {
      "text/html": [
       "<div>\n",
       "<style scoped>\n",
       "    .dataframe tbody tr th:only-of-type {\n",
       "        vertical-align: middle;\n",
       "    }\n",
       "\n",
       "    .dataframe tbody tr th {\n",
       "        vertical-align: top;\n",
       "    }\n",
       "\n",
       "    .dataframe thead th {\n",
       "        text-align: right;\n",
       "    }\n",
       "</style>\n",
       "<table border=\"1\" class=\"dataframe\">\n",
       "  <thead>\n",
       "    <tr style=\"text-align: right;\">\n",
       "      <th></th>\n",
       "    </tr>\n",
       "  </thead>\n",
       "  <tbody>\n",
       "  </tbody>\n",
       "</table>\n",
       "</div>"
      ],
      "text/plain": [
       "Empty DataFrame\n",
       "Columns: []\n",
       "Index: []"
      ]
     },
     "execution_count": 28,
     "metadata": {},
     "output_type": "execute_result"
    }
   ],
   "source": [
    "%%bigquery\n",
    "CREATE OR REPLACE MODEL `operating-pod-302903.p7.mymodel`\n",
    "OPTIONS(model_type='LINEAR_REG', INPUT_LABEL_COLS=['loan_amount'])\n",
    "\n",
    "AS\n",
    "\n",
    "SELECT income, loan_term, loan_amount\n",
    "FROM `operating-pod-302903.p7.traintest`\n",
    "WHERE NOT test"
   ]
  },
  {
   "cell_type": "code",
   "execution_count": 29,
   "id": "a562c7d8-9053-4126-aa39-711d8e8e95f6",
   "metadata": {
    "tags": []
   },
   "outputs": [
    {
     "data": {
      "text/html": [
       "<div>\n",
       "<style scoped>\n",
       "    .dataframe tbody tr th:only-of-type {\n",
       "        vertical-align: middle;\n",
       "    }\n",
       "\n",
       "    .dataframe tbody tr th {\n",
       "        vertical-align: top;\n",
       "    }\n",
       "\n",
       "    .dataframe thead th {\n",
       "        text-align: right;\n",
       "    }\n",
       "</style>\n",
       "<table border=\"1\" class=\"dataframe\">\n",
       "  <thead>\n",
       "    <tr style=\"text-align: right;\">\n",
       "      <th></th>\n",
       "      <th>processed_input</th>\n",
       "      <th>weight</th>\n",
       "      <th>category_weights</th>\n",
       "    </tr>\n",
       "  </thead>\n",
       "  <tbody>\n",
       "    <tr>\n",
       "      <th>0</th>\n",
       "      <td>income</td>\n",
       "      <td>0.798789</td>\n",
       "      <td>[]</td>\n",
       "    </tr>\n",
       "    <tr>\n",
       "      <th>1</th>\n",
       "      <td>loan_term</td>\n",
       "      <td>381.032894</td>\n",
       "      <td>[]</td>\n",
       "    </tr>\n",
       "    <tr>\n",
       "      <th>2</th>\n",
       "      <td>__INTERCEPT__</td>\n",
       "      <td>-330.773732</td>\n",
       "      <td>[]</td>\n",
       "    </tr>\n",
       "  </tbody>\n",
       "</table>\n",
       "</div>"
      ],
      "text/plain": [
       "  processed_input      weight category_weights\n",
       "0          income    0.798789               []\n",
       "1       loan_term  381.032894               []\n",
       "2   __INTERCEPT__ -330.773732               []"
      ]
     },
     "execution_count": 29,
     "metadata": {},
     "output_type": "execute_result"
    }
   ],
   "source": [
    "weights = bq.query(\"\"\"\n",
    "SELECT * FROM\n",
    "ML.WEIGHTS(MODEL `operating-pod-302903.p7.mymodel`)\n",
    "\"\"\", job_config=no_cache)\n",
    "weights_df = weights.to_dataframe()\n",
    "weights_df"
   ]
  },
  {
   "cell_type": "code",
   "execution_count": 30,
   "id": "dfb4f895-8498-4837-9796-659f9f70cecf",
   "metadata": {
    "tags": []
   },
   "outputs": [
    {
     "data": {
      "text/html": [
       "<div>\n",
       "<style scoped>\n",
       "    .dataframe tbody tr th:only-of-type {\n",
       "        vertical-align: middle;\n",
       "    }\n",
       "\n",
       "    .dataframe tbody tr th {\n",
       "        vertical-align: top;\n",
       "    }\n",
       "\n",
       "    .dataframe thead th {\n",
       "        text-align: right;\n",
       "    }\n",
       "</style>\n",
       "<table border=\"1\" class=\"dataframe\">\n",
       "  <thead>\n",
       "    <tr style=\"text-align: right;\">\n",
       "      <th></th>\n",
       "      <th>mean_absolute_error</th>\n",
       "      <th>mean_squared_error</th>\n",
       "      <th>mean_squared_log_error</th>\n",
       "      <th>median_absolute_error</th>\n",
       "      <th>r2_score</th>\n",
       "      <th>explained_variance</th>\n",
       "    </tr>\n",
       "  </thead>\n",
       "  <tbody>\n",
       "    <tr>\n",
       "      <th>0</th>\n",
       "      <td>76918.449483</td>\n",
       "      <td>1.292503e+10</td>\n",
       "      <td>0.425745</td>\n",
       "      <td>55390.188549</td>\n",
       "      <td>0.298104</td>\n",
       "      <td>0.298105</td>\n",
       "    </tr>\n",
       "  </tbody>\n",
       "</table>\n",
       "</div>"
      ],
      "text/plain": [
       "   mean_absolute_error  mean_squared_error  mean_squared_log_error  \\\n",
       "0         76918.449483        1.292503e+10                0.425745   \n",
       "\n",
       "   median_absolute_error  r2_score  explained_variance  \n",
       "0           55390.188549  0.298104            0.298105  "
      ]
     },
     "execution_count": 30,
     "metadata": {},
     "output_type": "execute_result"
    }
   ],
   "source": [
    "eval = bq.query(\"\"\"\n",
    "SELECT *\n",
    "FROM\n",
    "ML.EVALUATE(\n",
    "    MODEL `operating-pod-302903.p7.mymodel`,\n",
    "    (\n",
    "        SELECT income, loan_term, loan_amount\n",
    "        FROM `operating-pod-302903.p7.traintest`\n",
    "        WHERE test\n",
    "    )\n",
    ")\n",
    "\"\"\", job_config=no_cache)\n",
    "eval_df = eval.to_dataframe()\n",
    "eval_df"
   ]
  },
  {
   "cell_type": "code",
   "execution_count": 31,
   "id": "c70c6bcb-6784-4f0d-a08e-5e204ad3d573",
   "metadata": {
    "tags": []
   },
   "outputs": [
    {
     "data": {
      "text/plain": [
       "0.2981038427285001"
      ]
     },
     "execution_count": 31,
     "metadata": {},
     "output_type": "execute_result"
    }
   ],
   "source": [
    "#q8\n",
    "eval_df.iloc[0].at[\"r2_score\"]"
   ]
  },
  {
   "cell_type": "code",
   "execution_count": 32,
   "id": "61262a7c-4451-4e14-b75a-615da21b94ba",
   "metadata": {
    "tags": []
   },
   "outputs": [
    {
     "data": {
      "text/plain": [
       "0.79878858470684"
      ]
     },
     "execution_count": 32,
     "metadata": {},
     "output_type": "execute_result"
    }
   ],
   "source": [
    "#q9\n",
    "weights_df.loc[weights_df.processed_input == 'income']['weight'].iloc[0]"
   ]
  },
  {
   "cell_type": "code",
   "execution_count": 33,
   "id": "26868939-2072-4525-86e7-9b01f823587e",
   "metadata": {
    "tags": []
   },
   "outputs": [
    {
     "data": {
      "text/html": [
       "<div>\n",
       "<style scoped>\n",
       "    .dataframe tbody tr th:only-of-type {\n",
       "        vertical-align: middle;\n",
       "    }\n",
       "\n",
       "    .dataframe tbody tr th {\n",
       "        vertical-align: top;\n",
       "    }\n",
       "\n",
       "    .dataframe thead th {\n",
       "        text-align: right;\n",
       "    }\n",
       "</style>\n",
       "<table border=\"1\" class=\"dataframe\">\n",
       "  <thead>\n",
       "    <tr style=\"text-align: right;\">\n",
       "      <th></th>\n",
       "      <th>predicted_loan_amount</th>\n",
       "      <th>income</th>\n",
       "      <th>loan_term</th>\n",
       "      <th>loan_amount</th>\n",
       "    </tr>\n",
       "  </thead>\n",
       "  <tbody>\n",
       "    <tr>\n",
       "      <th>0</th>\n",
       "      <td>196750.211844</td>\n",
       "      <td>75000</td>\n",
       "      <td>360</td>\n",
       "      <td>200000</td>\n",
       "    </tr>\n",
       "    <tr>\n",
       "      <th>1</th>\n",
       "      <td>236689.641080</td>\n",
       "      <td>125000</td>\n",
       "      <td>360</td>\n",
       "      <td>500000</td>\n",
       "    </tr>\n",
       "    <tr>\n",
       "      <th>2</th>\n",
       "      <td>200744.154768</td>\n",
       "      <td>80000</td>\n",
       "      <td>360</td>\n",
       "      <td>350000</td>\n",
       "    </tr>\n",
       "    <tr>\n",
       "      <th>3</th>\n",
       "      <td>256659.355697</td>\n",
       "      <td>150000</td>\n",
       "      <td>360</td>\n",
       "      <td>190000</td>\n",
       "    </tr>\n",
       "    <tr>\n",
       "      <th>4</th>\n",
       "      <td>156810.782609</td>\n",
       "      <td>25000</td>\n",
       "      <td>360</td>\n",
       "      <td>250000</td>\n",
       "    </tr>\n",
       "    <tr>\n",
       "      <th>...</th>\n",
       "      <td>...</td>\n",
       "      <td>...</td>\n",
       "      <td>...</td>\n",
       "      <td>...</td>\n",
       "    </tr>\n",
       "    <tr>\n",
       "      <th>100</th>\n",
       "      <td>216719.926462</td>\n",
       "      <td>100000</td>\n",
       "      <td>360</td>\n",
       "      <td>599</td>\n",
       "    </tr>\n",
       "    <tr>\n",
       "      <th>101</th>\n",
       "      <td>256659.355697</td>\n",
       "      <td>150000</td>\n",
       "      <td>360</td>\n",
       "      <td>700000</td>\n",
       "    </tr>\n",
       "    <tr>\n",
       "      <th>102</th>\n",
       "      <td>138704.641759</td>\n",
       "      <td>2333</td>\n",
       "      <td>360</td>\n",
       "      <td>2333</td>\n",
       "    </tr>\n",
       "    <tr>\n",
       "      <th>103</th>\n",
       "      <td>456356.501874</td>\n",
       "      <td>400000</td>\n",
       "      <td>360</td>\n",
       "      <td>1200000</td>\n",
       "    </tr>\n",
       "    <tr>\n",
       "      <th>104</th>\n",
       "      <td>296598.784933</td>\n",
       "      <td>200000</td>\n",
       "      <td>360</td>\n",
       "      <td>500000</td>\n",
       "    </tr>\n",
       "  </tbody>\n",
       "</table>\n",
       "<p>105 rows × 4 columns</p>\n",
       "</div>"
      ],
      "text/plain": [
       "     predicted_loan_amount  income  loan_term  loan_amount\n",
       "0            196750.211844   75000        360       200000\n",
       "1            236689.641080  125000        360       500000\n",
       "2            200744.154768   80000        360       350000\n",
       "3            256659.355697  150000        360       190000\n",
       "4            156810.782609   25000        360       250000\n",
       "..                     ...     ...        ...          ...\n",
       "100          216719.926462  100000        360          599\n",
       "101          256659.355697  150000        360       700000\n",
       "102          138704.641759    2333        360         2333\n",
       "103          456356.501874  400000        360      1200000\n",
       "104          296598.784933  200000        360       500000\n",
       "\n",
       "[105 rows x 4 columns]"
      ]
     },
     "execution_count": 33,
     "metadata": {},
     "output_type": "execute_result"
    }
   ],
   "source": [
    "preds = bq.query(\"\"\"\n",
    "SELECT *\n",
    "FROM\n",
    "ML.PREDICT(\n",
    "    MODEL `operating-pod-302903.p7.mymodel`,\n",
    "    (\n",
    "        SELECT income, 360 AS loan_term, loan_amount\n",
    "        FROM `operating-pod-302903.p7.applications`\n",
    "    )\n",
    ")\n",
    "\"\"\", job_config=no_cache)\n",
    "preds_df = preds.to_dataframe()\n",
    "preds_df"
   ]
  },
  {
   "cell_type": "code",
   "execution_count": 34,
   "id": "f13d3afa-6142-4a2d-b54e-dd4dd07a8709",
   "metadata": {
    "tags": []
   },
   "outputs": [
    {
     "data": {
      "text/plain": [
       "0.6"
      ]
     },
     "execution_count": 34,
     "metadata": {},
     "output_type": "execute_result"
    }
   ],
   "source": [
    "#q10\n",
    "percent_larger = len(preds_df.loc[preds_df.predicted_loan_amount < preds_df.loan_amount])\n",
    "total = len(preds_df)\n",
    "percent_larger/total"
   ]
  },
  {
   "cell_type": "code",
   "execution_count": null,
   "id": "a3065d50-9c47-452a-b5e6-bf92f583881a",
   "metadata": {},
   "outputs": [],
   "source": []
  }
 ],
 "metadata": {
  "kernelspec": {
   "display_name": "Python 3 (ipykernel)",
   "language": "python",
   "name": "python3"
  },
  "language_info": {
   "codemirror_mode": {
    "name": "ipython",
    "version": 3
   },
   "file_extension": ".py",
   "mimetype": "text/x-python",
   "name": "python",
   "nbconvert_exporter": "python",
   "pygments_lexer": "ipython3",
   "version": "3.8.10"
  }
 },
 "nbformat": 4,
 "nbformat_minor": 5
}
